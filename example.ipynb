{
 "cells": [
  {
   "cell_type": "code",
   "execution_count": 1,
   "metadata": {},
   "outputs": [],
   "source": [
    "from sklearn.linear_model import LogisticRegression\n",
    "from causallib.estimation import IPW \n",
    "from causallib.datasets import load_nhefs"
   ]
  },
  {
   "cell_type": "code",
   "execution_count": 2,
   "metadata": {},
   "outputs": [],
   "source": [
    "data = load_nhefs()\n",
    "ipw = IPW(LogisticRegression(max_iter=1000))\n",
    "ipw.fit(data.X, data.a)\n",
    "potential_outcomes = ipw.estimate_population_outcome(data.X, data.a, data.y)\n",
    "effect = ipw.estimate_effect(potential_outcomes[1], potential_outcomes[0])"
   ]
  },
  {
   "cell_type": "code",
   "execution_count": 4,
   "metadata": {},
   "outputs": [
    {
     "name": "stdout",
     "output_type": "stream",
     "text": [
      "diff    3.519515\n",
      "dtype: float64\n",
      "{'clip_max': None, 'clip_min': None, 'learner__C': 1.0, 'learner__class_weight': None, 'learner__dual': False, 'learner__fit_intercept': True, 'learner__intercept_scaling': 1, 'learner__l1_ratio': None, 'learner__max_iter': 1000, 'learner__multi_class': 'auto', 'learner__n_jobs': None, 'learner__penalty': 'l2', 'learner__random_state': None, 'learner__solver': 'lbfgs', 'learner__tol': 0.0001, 'learner__verbose': 0, 'learner__warm_start': False, 'learner': LogisticRegression(max_iter=1000), 'use_stabilized': False, 'verbose': False}\n"
     ]
    }
   ],
   "source": [
    "print(effect)\n",
    "print(ipw.get_params())"
   ]
  }
 ],
 "metadata": {
  "kernelspec": {
   "display_name": "venv311",
   "language": "python",
   "name": "python3"
  },
  "language_info": {
   "codemirror_mode": {
    "name": "ipython",
    "version": 3
   },
   "file_extension": ".py",
   "mimetype": "text/x-python",
   "name": "python",
   "nbconvert_exporter": "python",
   "pygments_lexer": "ipython3",
   "version": "3.11.7"
  }
 },
 "nbformat": 4,
 "nbformat_minor": 2
}
